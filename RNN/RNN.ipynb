{
  "nbformat": 4,
  "nbformat_minor": 0,
  "metadata": {
    "colab": {
      "name": "TIV_TP5_Gatineau_Larsen.ipynb",
      "provenance": [],
      "collapsed_sections": [
        "9ib9XoiRkvOs",
        "sh_ulzh2kpKX",
        "VvA4R7Prk1q9",
        "FOcygDKACuXX",
        "IX8DqG0FyBd4",
        "H4SDZeZpf5as",
        "HzLsBdzmgbGq",
        "4VPTNu0CbHG6"
      ],
      "toc_visible": true
    },
    "kernelspec": {
      "name": "python3",
      "display_name": "Python 3.8.5 64-bit ('Base 38': conda)",
      "metadata": {
        "interpreter": {
          "hash": "c58435009d3d241553d5b06a93e4d50e6ea677cbad7dd294f13da466c1d461f6"
        }
      }
    }
  },
  "cells": [
    {
      "cell_type": "markdown",
      "metadata": {
        "id": "9ib9XoiRkvOs"
      },
      "source": [
        "# Initialisation"
      ]
    },
    {
      "cell_type": "markdown",
      "metadata": {
        "id": "sh_ulzh2kpKX"
      },
      "source": [
        "## Importation"
      ]
    },
    {
      "cell_type": "code",
      "metadata": {
        "id": "3zTLJXNcjc5K"
      },
      "source": [
        "import cv2\n",
        "import math\n",
        "import sklearn\n",
        "import random\n",
        "import progressbar\n",
        "import numpy as np\n",
        "# import moviepy.editor as mpe\n",
        "import matplotlib.pyplot as plt\n",
        "import matplotlib.colors as mcolors\n",
        "from time import time\n",
        "from scipy import misc\n",
        "from scipy import ndimage\n",
        "from IPython import display\n",
        "from PIL import Image, ImageOps\n",
        "from IPython.display import YouTubeVideo\n",
        "from scipy.ndimage.filters import convolve\n",
        "\n",
        "from sklearn.cluster import KMeans\n",
        "import torch\n",
        "from torch import nn"
      ],
      "execution_count": 7,
      "outputs": []
    },
    {
      "cell_type": "markdown",
      "metadata": {
        "id": "VvA4R7Prk1q9"
      },
      "source": [
        "## Database"
      ]
    },
    {
      "cell_type": "code",
      "metadata": {
        "id": "n8y0Jct1lMLX",
        "colab": {
          "base_uri": "https://localhost:8080/"
        },
        "outputId": "fb2aa730-9916-46a6-b277-f7c72a872a61"
      },
      "source": [
        "with ZipFile('../HandGestureDataset_SHREC2017_temp.zip', 'r') as zipObj:\n",
        "  zipObj.extractall()\n",
        "  zipObj.close()\n",
        "\n",
        "root_datase = './HandGestureDataset_SHREC2017_temp'"
      ],
      "execution_count": 13,
      "outputs": []
    },
    {
      "cell_type": "code",
      "metadata": {
        "id": "1S_P-xb7qF1J"
      },
      "source": [
        "def open_data(idx_gesture,\n",
        "              idx_subject,\n",
        "              idx_finger,\n",
        "              idx_essai):\n",
        "\n",
        "  # Path of the gesture\n",
        "  path_gesture = '{0}/gesture_{1}/finger_{2}/subject_{3}/essai_{4}/'.format(root_datase, idx_gesture+1, idx_finger+1, idx_subject+1, idx_essai+1)\n",
        "\n",
        "  if os.path.isdir(path_gesture):\n",
        "    return True, np.loadtxt(path_gesture + '/skeletons_image.txt')\n",
        "  else:\n",
        "    return False, None\n",
        "\n",
        "Ground_truth = []\n",
        "X = []\n",
        "for idx_gesture in range(14):\n",
        "  for idx_subject in range(28):\n",
        "    for idx_finger in range(2):\n",
        "      for idx_essai in range(10):\n",
        "        Exist, x = open_data(idx_gesture, idx_subject, idx_finger, idx_essai)\n",
        "        if not(Exist) :\n",
        "          break\n",
        "        X.append(x)\n",
        "        Ground_truth.append(idx_gesture)"
      ],
      "execution_count": 14,
      "outputs": []
    },
    {
      "cell_type": "markdown",
      "metadata": {
        "id": "xhiDFaolyCzs"
      },
      "source": [
        "# Réseaux de neurones récurrents"
      ]
    },
    {
      "cell_type": "markdown",
      "metadata": {
        "id": "4VPTNu0CbHG6"
      },
      "source": [
        "## Data formating"
      ]
    },
    {
      "cell_type": "code",
      "metadata": {
        "id": "hiLN18DcWVkN"
      },
      "source": [
        "max = 0\n",
        "for x in X:\n",
        "  if max < len(x):\n",
        "    max = len(x)\n",
        "\n",
        "Data = np.zeros((len(X), max, X[0].shape[1]))\n",
        "for i in range(len(X)):\n",
        "  Data[i, :X[i].shape[0], :] = np.reshape(X[i], (X[i].shape[0], X[i].shape[1]), order = 'F')\n",
        "\n",
        "Target = np.zeros((len(Ground_truth), 14))\n",
        "for i in range(len(Ground_truth)):\n",
        "  Target[i, Ground_truth[i]] = 1\n",
        "\n",
        "dataSize, seqSize, inputSize = Data.shape\n",
        "outputSize = Target.shape[1]\n",
        "trainSize = int(dataSize * 0.9)\n",
        "\n",
        "ind_train = np.random.choice(dataSize, trainSize, replace = False)\n",
        "train_data = torch.from_numpy(Data[ind_train])\n",
        "train_target = torch.from_numpy(Target[ind_train])\n",
        "\n",
        "ind_test = np.delete(np.arange(dataSize), ind_train)\n",
        "test_data = torch.from_numpy(np.array(Data[ind_test]))\n",
        "test_target = Target[ind_test]"
      ],
      "execution_count": 15,
      "outputs": []
    },
    {
      "cell_type": "markdown",
      "metadata": {
        "id": "WcoYB4EtbQDr"
      },
      "source": [
        "## Model definition"
      ]
    },
    {
      "cell_type": "code",
      "metadata": {
        "id": "MDwKl6dXpQcf"
      },
      "source": [
        "class RNN_classifier(nn.Module):\n",
        "  def __init__(self, inputSize, seqSize, outputSize, device=\"cpu\"):\n",
        "    super().__init__()\n",
        "    \n",
        "    self.f = nn.Tanh().to(device) # Hyperparameter \n",
        "    self.f_out = nn.Softmax(dim = 1).to(device) # nn.Sigmoid() # Hyperparameter \n",
        "\n",
        "    self.inputSize = inputSize\n",
        "    self.R_Size = 100 # Hyperparameter\n",
        "    self.Q_Size = 100 # Hyperparameter\n",
        "    self.A = [0, 0.25, 0.5, 0.95] # Hyperparameter\n",
        "    self.H_Size = len(self.A) * self.Q_Size\n",
        "    self.O_Size = 100 # Hyperparameter\n",
        "    self.seqSize = seqSize\n",
        "    self.outputSize = outputSize\n",
        "    self.loss = nn.BCELoss()\n",
        "\n",
        "\n",
        "    self.R = nn.Linear(self.H_Size, self.R_Size)\n",
        "    self.Q = nn.Linear(self.inputSize + self.R_Size, self.Q_Size)\n",
        "    self.O = nn.Linear(self.H_Size, self.O_Size)\n",
        "    self.flat = nn.Flatten()\n",
        "    self.Output = nn.Linear(self.O_Size * self.seqSize, self.outputSize)\n",
        "\n",
        "    self.to(device)\n",
        "\n",
        "  def forward(self, In):\n",
        "    batchSize = In.shape[0]\n",
        "    Out = torch.zeros((batchSize, self.seqSize, self.O_Size))\n",
        "    Ha = torch.zeros((batchSize, self.seqSize, len(self.A), self.Q_Size))\n",
        "\n",
        "    for t in range(self.seqSize):\n",
        "      H = torch.reshape(Ha[:, t - 1].clone(), (batchSize, self.H_Size))\n",
        "      Rt = self.f(self.R(H))\n",
        "      print(In[:, t].device, Rt.device)\n",
        "      Qt = self.f(self.Q(torch.cat((In[:, t], Rt), 1)))\n",
        "      for a, Alpha in enumerate(self.A) :\n",
        "        Ha[:, t, a] = Alpha * Ha[:, t - 1, a].clone() + (1 - Alpha) * Qt\n",
        "      H = torch.reshape(Ha[:, t].clone(), (batchSize, self.H_Size))\n",
        "      Out[:, t] = self.f(self.O(H))\n",
        "    \n",
        "    return self.f_out(self.Output(self.flat(Out)))\n",
        "\n"
      ],
      "execution_count": 38,
      "outputs": []
    },
    {
      "cell_type": "markdown",
      "metadata": {
        "id": "ZtT-HU93bjQD"
      },
      "source": [
        "## Training"
      ]
    },
    {
      "cell_type": "code",
      "metadata": {
        "id": "hCCmLSolOEuL"
      },
      "source": [
        "device = \"cpu\"\n",
        "if torch.cuda.is_available():\n",
        "    device = \"cuda\"\n",
        "    print(\"Using cuda\")\n",
        "else :\n",
        "    print(\"Using cpu\")\n",
        "\n",
        "model = RNN_classifier(inputSize, seqSize, outputSize, device=device)\n",
        "model.train()\n",
        "\n",
        "lossHistory = []\n",
        "outputs = []\n",
        "target = []\n",
        "test_Score = []\n",
        "\n",
        "adresse = './checkpoints'"
      ],
      "execution_count": 36,
      "outputs": [
        {
          "output_type": "stream",
          "name": "stdout",
          "text": [
            "Using cuda\n"
          ]
        }
      ]
    },
    {
      "cell_type": "code",
      "metadata": {
        "id": "TOjmMLGuU8uD",
        "colab": {
          "base_uri": "https://localhost:8080/",
          "height": 1000
        },
        "outputId": "c8e2479e-c23f-430a-f6d6-b142a9053705"
      },
      "source": [
        "batchSize = 100\n",
        "learningRate = 0.0001\n",
        "epochs = 100\n",
        "optimizer = torch.optim.Adam(model.parameters(), lr=learningRate)\n",
        "\n",
        "affichage = 5\n",
        "moyennage = 10\n",
        "saving = 10\n",
        "bar = progressbar.ProgressBar(maxval=epochs)\n",
        "bar.start()\n",
        "bar.update(0)\n",
        "\n",
        "for epoch in range(epochs):\n",
        "\n",
        "  batch = np.random.choice(trainSize, batchSize)\n",
        "  output = model.forward(train_data[batch].float().to(device))\n",
        "  loss = model.loss(output, train_target[batch].float())\n",
        "  model.zero_grad()\n",
        "  loss.backward()\n",
        "  optimizer.step()\n",
        "\n",
        "  outputs.append(output.to(\"cpu\"))\n",
        "  target.append(train_target[batch].to(\"cpu\"))\n",
        "  lossHistory.append(loss.to(\"cpu\"))\n",
        "\n",
        "  test_output = model.forward(test_data.float().to(device)).detach().numpy()\n",
        "  test_Score.append(np.mean(np.argmax(test_output.to(\"cpu\"), axis=1) == np.argmax(test_target, axis=1))*100)\n",
        "\n",
        "  if (len(test_Score) - 1) % saving == 0 :\n",
        "    path = adresse + '/{}.pt'.format(len(test_Score) - 1)\n",
        "    torch.save({'epoch': len(test_Score) - 1,\n",
        "                'model_state_dict': model.state_dict(),\n",
        "                'optimizer_state_dict': optimizer.state_dict(),\n",
        "                'loss': loss,\n",
        "                'test_Score': test_Score[-1]}, path)\n",
        "    files.download(path)\n",
        "  if (epoch + 1) % affichage == 0 :\n",
        "    display.clear_output(wait=True)\n",
        "    plt.clf()\n",
        "\n",
        "    fig, axs = plt.subplots(2, 1, figsize=(16, 18))\n",
        "    axs[0].plot(lossHistory)\n",
        "    # axs[0].plot(np.convolve(lossHistory, np.ones(moyennage)/moyennage)[moyennage - 1 : - moyennage + 1])\n",
        "    # axs[0].legend(['loss', 'loss moyen'])\n",
        "    axs[0].set_title('Loss')\n",
        "    axs[0].set_xlabel('Epoch')\n",
        "    axs[0].set_ylabel('Loss')\n",
        "\n",
        "    axs[1].plot(test_Score)\n",
        "    axs[1].set_title('Réussite du set de test')\n",
        "    axs[1].set_xlabel('Epoch')\n",
        "    axs[1].set_ylabel('Score  (%)')\n",
        "    plt.grid(True)\n",
        "    \n",
        "    display.display(plt.gcf())\n",
        "\n",
        "  torch.cuda.empty_cache()\n",
        "  bar.update(epoch + 1)\n",
        "\n",
        "display.clear_output(wait=True)"
      ],
      "execution_count": 39,
      "outputs": [
        {
          "output_type": "stream",
          "name": "stderr",
          "text": [
            ""
          ]
        },
        {
          "output_type": "error",
          "ename": "RuntimeError",
          "evalue": "Expected object of device type cuda but got device type cpu for argument #2 'mat1' in call to _th_addmm",
          "traceback": [
            "\u001b[1;31m---------------------------------------------------------------------------\u001b[0m",
            "\u001b[1;31mRuntimeError\u001b[0m                              Traceback (most recent call last)",
            "\u001b[1;32m<ipython-input-39-63630a49abe8>\u001b[0m in \u001b[0;36m<module>\u001b[1;34m\u001b[0m\n\u001b[0;32m     14\u001b[0m \u001b[1;33m\u001b[0m\u001b[0m\n\u001b[0;32m     15\u001b[0m   \u001b[0mbatch\u001b[0m \u001b[1;33m=\u001b[0m \u001b[0mnp\u001b[0m\u001b[1;33m.\u001b[0m\u001b[0mrandom\u001b[0m\u001b[1;33m.\u001b[0m\u001b[0mchoice\u001b[0m\u001b[1;33m(\u001b[0m\u001b[0mtrainSize\u001b[0m\u001b[1;33m,\u001b[0m \u001b[0mbatchSize\u001b[0m\u001b[1;33m)\u001b[0m\u001b[1;33m\u001b[0m\u001b[1;33m\u001b[0m\u001b[0m\n\u001b[1;32m---> 16\u001b[1;33m   \u001b[0moutput\u001b[0m \u001b[1;33m=\u001b[0m \u001b[0mmodel\u001b[0m\u001b[1;33m.\u001b[0m\u001b[0mforward\u001b[0m\u001b[1;33m(\u001b[0m\u001b[0mtrain_data\u001b[0m\u001b[1;33m[\u001b[0m\u001b[0mbatch\u001b[0m\u001b[1;33m]\u001b[0m\u001b[1;33m.\u001b[0m\u001b[0mfloat\u001b[0m\u001b[1;33m(\u001b[0m\u001b[1;33m)\u001b[0m\u001b[1;33m.\u001b[0m\u001b[0mto\u001b[0m\u001b[1;33m(\u001b[0m\u001b[0mdevice\u001b[0m\u001b[1;33m)\u001b[0m\u001b[1;33m)\u001b[0m\u001b[1;33m\u001b[0m\u001b[1;33m\u001b[0m\u001b[0m\n\u001b[0m\u001b[0;32m     17\u001b[0m   \u001b[0mloss\u001b[0m \u001b[1;33m=\u001b[0m \u001b[0mmodel\u001b[0m\u001b[1;33m.\u001b[0m\u001b[0mloss\u001b[0m\u001b[1;33m(\u001b[0m\u001b[0moutput\u001b[0m\u001b[1;33m,\u001b[0m \u001b[0mtrain_target\u001b[0m\u001b[1;33m[\u001b[0m\u001b[0mbatch\u001b[0m\u001b[1;33m]\u001b[0m\u001b[1;33m.\u001b[0m\u001b[0mfloat\u001b[0m\u001b[1;33m(\u001b[0m\u001b[1;33m)\u001b[0m\u001b[1;33m)\u001b[0m\u001b[1;33m\u001b[0m\u001b[1;33m\u001b[0m\u001b[0m\n\u001b[0;32m     18\u001b[0m   \u001b[0mmodel\u001b[0m\u001b[1;33m.\u001b[0m\u001b[0mzero_grad\u001b[0m\u001b[1;33m(\u001b[0m\u001b[1;33m)\u001b[0m\u001b[1;33m\u001b[0m\u001b[1;33m\u001b[0m\u001b[0m\n",
            "\u001b[1;32m<ipython-input-28-dfb24dea5bda>\u001b[0m in \u001b[0;36mforward\u001b[1;34m(self, In)\u001b[0m\n\u001b[0;32m     31\u001b[0m     \u001b[1;32mfor\u001b[0m \u001b[0mt\u001b[0m \u001b[1;32min\u001b[0m \u001b[0mrange\u001b[0m\u001b[1;33m(\u001b[0m\u001b[0mself\u001b[0m\u001b[1;33m.\u001b[0m\u001b[0mseqSize\u001b[0m\u001b[1;33m)\u001b[0m\u001b[1;33m:\u001b[0m\u001b[1;33m\u001b[0m\u001b[1;33m\u001b[0m\u001b[0m\n\u001b[0;32m     32\u001b[0m       \u001b[0mH\u001b[0m \u001b[1;33m=\u001b[0m \u001b[0mtorch\u001b[0m\u001b[1;33m.\u001b[0m\u001b[0mreshape\u001b[0m\u001b[1;33m(\u001b[0m\u001b[0mHa\u001b[0m\u001b[1;33m[\u001b[0m\u001b[1;33m:\u001b[0m\u001b[1;33m,\u001b[0m \u001b[0mt\u001b[0m \u001b[1;33m-\u001b[0m \u001b[1;36m1\u001b[0m\u001b[1;33m]\u001b[0m\u001b[1;33m.\u001b[0m\u001b[0mclone\u001b[0m\u001b[1;33m(\u001b[0m\u001b[1;33m)\u001b[0m\u001b[1;33m,\u001b[0m \u001b[1;33m(\u001b[0m\u001b[0mbatchSize\u001b[0m\u001b[1;33m,\u001b[0m \u001b[0mself\u001b[0m\u001b[1;33m.\u001b[0m\u001b[0mH_Size\u001b[0m\u001b[1;33m)\u001b[0m\u001b[1;33m)\u001b[0m\u001b[1;33m\u001b[0m\u001b[1;33m\u001b[0m\u001b[0m\n\u001b[1;32m---> 33\u001b[1;33m       \u001b[0mRt\u001b[0m \u001b[1;33m=\u001b[0m \u001b[0mself\u001b[0m\u001b[1;33m.\u001b[0m\u001b[0mf\u001b[0m\u001b[1;33m(\u001b[0m\u001b[0mself\u001b[0m\u001b[1;33m.\u001b[0m\u001b[0mR\u001b[0m\u001b[1;33m(\u001b[0m\u001b[0mH\u001b[0m\u001b[1;33m)\u001b[0m\u001b[1;33m)\u001b[0m\u001b[1;33m\u001b[0m\u001b[1;33m\u001b[0m\u001b[0m\n\u001b[0m\u001b[0;32m     34\u001b[0m       \u001b[0mprint\u001b[0m\u001b[1;33m(\u001b[0m\u001b[0mIn\u001b[0m\u001b[1;33m[\u001b[0m\u001b[1;33m:\u001b[0m\u001b[1;33m,\u001b[0m \u001b[0mt\u001b[0m\u001b[1;33m]\u001b[0m\u001b[1;33m.\u001b[0m\u001b[0mdevice\u001b[0m\u001b[1;33m,\u001b[0m \u001b[0mRt\u001b[0m\u001b[1;33m.\u001b[0m\u001b[0mdevice\u001b[0m\u001b[1;33m)\u001b[0m\u001b[1;33m\u001b[0m\u001b[1;33m\u001b[0m\u001b[0m\n\u001b[0;32m     35\u001b[0m       \u001b[0mQt\u001b[0m \u001b[1;33m=\u001b[0m \u001b[0mself\u001b[0m\u001b[1;33m.\u001b[0m\u001b[0mf\u001b[0m\u001b[1;33m(\u001b[0m\u001b[0mself\u001b[0m\u001b[1;33m.\u001b[0m\u001b[0mQ\u001b[0m\u001b[1;33m(\u001b[0m\u001b[0mtorch\u001b[0m\u001b[1;33m.\u001b[0m\u001b[0mcat\u001b[0m\u001b[1;33m(\u001b[0m\u001b[1;33m(\u001b[0m\u001b[0mIn\u001b[0m\u001b[1;33m[\u001b[0m\u001b[1;33m:\u001b[0m\u001b[1;33m,\u001b[0m \u001b[0mt\u001b[0m\u001b[1;33m]\u001b[0m\u001b[1;33m,\u001b[0m \u001b[0mRt\u001b[0m\u001b[1;33m)\u001b[0m\u001b[1;33m,\u001b[0m \u001b[1;36m1\u001b[0m\u001b[1;33m)\u001b[0m\u001b[1;33m)\u001b[0m\u001b[1;33m)\u001b[0m\u001b[1;33m\u001b[0m\u001b[1;33m\u001b[0m\u001b[0m\n",
            "\u001b[1;32mB:\\Programs\\Anaconda\\lib\\site-packages\\torch\\nn\\modules\\module.py\u001b[0m in \u001b[0;36m__call__\u001b[1;34m(self, *input, **kwargs)\u001b[0m\n\u001b[0;32m    548\u001b[0m             \u001b[0mresult\u001b[0m \u001b[1;33m=\u001b[0m \u001b[0mself\u001b[0m\u001b[1;33m.\u001b[0m\u001b[0m_slow_forward\u001b[0m\u001b[1;33m(\u001b[0m\u001b[1;33m*\u001b[0m\u001b[0minput\u001b[0m\u001b[1;33m,\u001b[0m \u001b[1;33m**\u001b[0m\u001b[0mkwargs\u001b[0m\u001b[1;33m)\u001b[0m\u001b[1;33m\u001b[0m\u001b[1;33m\u001b[0m\u001b[0m\n\u001b[0;32m    549\u001b[0m         \u001b[1;32melse\u001b[0m\u001b[1;33m:\u001b[0m\u001b[1;33m\u001b[0m\u001b[1;33m\u001b[0m\u001b[0m\n\u001b[1;32m--> 550\u001b[1;33m             \u001b[0mresult\u001b[0m \u001b[1;33m=\u001b[0m \u001b[0mself\u001b[0m\u001b[1;33m.\u001b[0m\u001b[0mforward\u001b[0m\u001b[1;33m(\u001b[0m\u001b[1;33m*\u001b[0m\u001b[0minput\u001b[0m\u001b[1;33m,\u001b[0m \u001b[1;33m**\u001b[0m\u001b[0mkwargs\u001b[0m\u001b[1;33m)\u001b[0m\u001b[1;33m\u001b[0m\u001b[1;33m\u001b[0m\u001b[0m\n\u001b[0m\u001b[0;32m    551\u001b[0m         \u001b[1;32mfor\u001b[0m \u001b[0mhook\u001b[0m \u001b[1;32min\u001b[0m \u001b[0mself\u001b[0m\u001b[1;33m.\u001b[0m\u001b[0m_forward_hooks\u001b[0m\u001b[1;33m.\u001b[0m\u001b[0mvalues\u001b[0m\u001b[1;33m(\u001b[0m\u001b[1;33m)\u001b[0m\u001b[1;33m:\u001b[0m\u001b[1;33m\u001b[0m\u001b[1;33m\u001b[0m\u001b[0m\n\u001b[0;32m    552\u001b[0m             \u001b[0mhook_result\u001b[0m \u001b[1;33m=\u001b[0m \u001b[0mhook\u001b[0m\u001b[1;33m(\u001b[0m\u001b[0mself\u001b[0m\u001b[1;33m,\u001b[0m \u001b[0minput\u001b[0m\u001b[1;33m,\u001b[0m \u001b[0mresult\u001b[0m\u001b[1;33m)\u001b[0m\u001b[1;33m\u001b[0m\u001b[1;33m\u001b[0m\u001b[0m\n",
            "\u001b[1;32mB:\\Programs\\Anaconda\\lib\\site-packages\\torch\\nn\\modules\\linear.py\u001b[0m in \u001b[0;36mforward\u001b[1;34m(self, input)\u001b[0m\n\u001b[0;32m     85\u001b[0m \u001b[1;33m\u001b[0m\u001b[0m\n\u001b[0;32m     86\u001b[0m     \u001b[1;32mdef\u001b[0m \u001b[0mforward\u001b[0m\u001b[1;33m(\u001b[0m\u001b[0mself\u001b[0m\u001b[1;33m,\u001b[0m \u001b[0minput\u001b[0m\u001b[1;33m)\u001b[0m\u001b[1;33m:\u001b[0m\u001b[1;33m\u001b[0m\u001b[1;33m\u001b[0m\u001b[0m\n\u001b[1;32m---> 87\u001b[1;33m         \u001b[1;32mreturn\u001b[0m \u001b[0mF\u001b[0m\u001b[1;33m.\u001b[0m\u001b[0mlinear\u001b[0m\u001b[1;33m(\u001b[0m\u001b[0minput\u001b[0m\u001b[1;33m,\u001b[0m \u001b[0mself\u001b[0m\u001b[1;33m.\u001b[0m\u001b[0mweight\u001b[0m\u001b[1;33m,\u001b[0m \u001b[0mself\u001b[0m\u001b[1;33m.\u001b[0m\u001b[0mbias\u001b[0m\u001b[1;33m)\u001b[0m\u001b[1;33m\u001b[0m\u001b[1;33m\u001b[0m\u001b[0m\n\u001b[0m\u001b[0;32m     88\u001b[0m \u001b[1;33m\u001b[0m\u001b[0m\n\u001b[0;32m     89\u001b[0m     \u001b[1;32mdef\u001b[0m \u001b[0mextra_repr\u001b[0m\u001b[1;33m(\u001b[0m\u001b[0mself\u001b[0m\u001b[1;33m)\u001b[0m\u001b[1;33m:\u001b[0m\u001b[1;33m\u001b[0m\u001b[1;33m\u001b[0m\u001b[0m\n",
            "\u001b[1;32mB:\\Programs\\Anaconda\\lib\\site-packages\\torch\\nn\\functional.py\u001b[0m in \u001b[0;36mlinear\u001b[1;34m(input, weight, bias)\u001b[0m\n\u001b[0;32m   1608\u001b[0m     \u001b[1;32mif\u001b[0m \u001b[0minput\u001b[0m\u001b[1;33m.\u001b[0m\u001b[0mdim\u001b[0m\u001b[1;33m(\u001b[0m\u001b[1;33m)\u001b[0m \u001b[1;33m==\u001b[0m \u001b[1;36m2\u001b[0m \u001b[1;32mand\u001b[0m \u001b[0mbias\u001b[0m \u001b[1;32mis\u001b[0m \u001b[1;32mnot\u001b[0m \u001b[1;32mNone\u001b[0m\u001b[1;33m:\u001b[0m\u001b[1;33m\u001b[0m\u001b[1;33m\u001b[0m\u001b[0m\n\u001b[0;32m   1609\u001b[0m         \u001b[1;31m# fused op is marginally faster\u001b[0m\u001b[1;33m\u001b[0m\u001b[1;33m\u001b[0m\u001b[1;33m\u001b[0m\u001b[0m\n\u001b[1;32m-> 1610\u001b[1;33m         \u001b[0mret\u001b[0m \u001b[1;33m=\u001b[0m \u001b[0mtorch\u001b[0m\u001b[1;33m.\u001b[0m\u001b[0maddmm\u001b[0m\u001b[1;33m(\u001b[0m\u001b[0mbias\u001b[0m\u001b[1;33m,\u001b[0m \u001b[0minput\u001b[0m\u001b[1;33m,\u001b[0m \u001b[0mweight\u001b[0m\u001b[1;33m.\u001b[0m\u001b[0mt\u001b[0m\u001b[1;33m(\u001b[0m\u001b[1;33m)\u001b[0m\u001b[1;33m)\u001b[0m\u001b[1;33m\u001b[0m\u001b[1;33m\u001b[0m\u001b[0m\n\u001b[0m\u001b[0;32m   1611\u001b[0m     \u001b[1;32melse\u001b[0m\u001b[1;33m:\u001b[0m\u001b[1;33m\u001b[0m\u001b[1;33m\u001b[0m\u001b[0m\n\u001b[0;32m   1612\u001b[0m         \u001b[0moutput\u001b[0m \u001b[1;33m=\u001b[0m \u001b[0minput\u001b[0m\u001b[1;33m.\u001b[0m\u001b[0mmatmul\u001b[0m\u001b[1;33m(\u001b[0m\u001b[0mweight\u001b[0m\u001b[1;33m.\u001b[0m\u001b[0mt\u001b[0m\u001b[1;33m(\u001b[0m\u001b[1;33m)\u001b[0m\u001b[1;33m)\u001b[0m\u001b[1;33m\u001b[0m\u001b[1;33m\u001b[0m\u001b[0m\n",
            "\u001b[1;31mRuntimeError\u001b[0m: Expected object of device type cuda but got device type cpu for argument #2 'mat1' in call to _th_addmm"
          ]
        }
      ]
    },
    {
      "cell_type": "code",
      "execution_count": null,
      "metadata": {},
      "outputs": [],
      "source": []
    }
  ]
}